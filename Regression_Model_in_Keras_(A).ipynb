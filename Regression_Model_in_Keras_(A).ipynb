{
  "nbformat": 4,
  "nbformat_minor": 0,
  "metadata": {
    "kernelspec": {
      "display_name": "Python 3",
      "language": "python",
      "name": "python3"
    },
    "language_info": {
      "codemirror_mode": {
        "name": "ipython",
        "version": 3
      },
      "file_extension": ".py",
      "mimetype": "text/x-python",
      "name": "python",
      "nbconvert_exporter": "python",
      "pygments_lexer": "ipython3",
      "version": "3.6.9"
    },
    "colab": {
      "name": "Regression_Model in Keras (A).ipynb",
      "provenance": []
    }
  },
  "cells": [
    {
      "cell_type": "markdown",
      "metadata": {
        "id": "VHEYF0qdBxnJ"
      },
      "source": [
        "# **WEEK 5 Assignment – Introduction to Deep Learning & Neural Networks with Keras**\n",
        "Surya Prakash Karasala\n",
        " \n",
        "Date: 03/22/2021\n",
        "\n",
        "## **Importing Required Packages**"
      ]
    },
    {
      "cell_type": "markdown",
      "metadata": {
        "id": "0QqSqoB_BxnP"
      },
      "source": [
        "Let's start by importing the <em>pandas</em> and the Numpy libraries."
      ]
    },
    {
      "cell_type": "code",
      "metadata": {
        "id": "MO8FHNRbBxnP"
      },
      "source": [
        "import pandas as pd\n",
        "import numpy as np"
      ],
      "execution_count": 1,
      "outputs": []
    },
    {
      "cell_type": "markdown",
      "metadata": {
        "id": "VWJ7TadPBxnQ"
      },
      "source": [
        "We will be using the dataset provided in the assignment\n",
        "\n",
        "<strong>The dataset is about the compressive strength of different samples of concrete based on the volumes of the different ingredients that were used to make them. Ingredients include:</strong>\n",
        "\n",
        "<strong>1. Cement</strong>\n",
        "\n",
        "<strong>2. Blast Furnace Slag</strong>\n",
        "\n",
        "<strong>3. Fly Ash</strong>\n",
        "\n",
        "<strong>4. Water</strong>\n",
        "\n",
        "<strong>5. Superplasticizer</strong>\n",
        "\n",
        "<strong>6. Coarse Aggregate</strong>\n",
        "\n",
        "<strong>7. Fine Aggregate</strong>\n",
        "\n",
        "## Loading Data\n",
        "\n",
        "Let's read the dataset into a pandas dataframe."
      ]
    },
    {
      "cell_type": "code",
      "metadata": {
        "id": "aErkpdY3BxnR",
        "colab": {
          "base_uri": "https://localhost:8080/",
          "height": 204
        },
        "outputId": "bec68da6-0796-48a6-c06b-27c8849d45e2"
      },
      "source": [
        "concrete_data = pd.read_csv('https://cocl.us/concrete_data')\n",
        "concrete_data.head()"
      ],
      "execution_count": 2,
      "outputs": [
        {
          "output_type": "execute_result",
          "data": {
            "text/html": [
              "<div>\n",
              "<style scoped>\n",
              "    .dataframe tbody tr th:only-of-type {\n",
              "        vertical-align: middle;\n",
              "    }\n",
              "\n",
              "    .dataframe tbody tr th {\n",
              "        vertical-align: top;\n",
              "    }\n",
              "\n",
              "    .dataframe thead th {\n",
              "        text-align: right;\n",
              "    }\n",
              "</style>\n",
              "<table border=\"1\" class=\"dataframe\">\n",
              "  <thead>\n",
              "    <tr style=\"text-align: right;\">\n",
              "      <th></th>\n",
              "      <th>Cement</th>\n",
              "      <th>Blast Furnace Slag</th>\n",
              "      <th>Fly Ash</th>\n",
              "      <th>Water</th>\n",
              "      <th>Superplasticizer</th>\n",
              "      <th>Coarse Aggregate</th>\n",
              "      <th>Fine Aggregate</th>\n",
              "      <th>Age</th>\n",
              "      <th>Strength</th>\n",
              "    </tr>\n",
              "  </thead>\n",
              "  <tbody>\n",
              "    <tr>\n",
              "      <th>0</th>\n",
              "      <td>540.0</td>\n",
              "      <td>0.0</td>\n",
              "      <td>0.0</td>\n",
              "      <td>162.0</td>\n",
              "      <td>2.5</td>\n",
              "      <td>1040.0</td>\n",
              "      <td>676.0</td>\n",
              "      <td>28</td>\n",
              "      <td>79.99</td>\n",
              "    </tr>\n",
              "    <tr>\n",
              "      <th>1</th>\n",
              "      <td>540.0</td>\n",
              "      <td>0.0</td>\n",
              "      <td>0.0</td>\n",
              "      <td>162.0</td>\n",
              "      <td>2.5</td>\n",
              "      <td>1055.0</td>\n",
              "      <td>676.0</td>\n",
              "      <td>28</td>\n",
              "      <td>61.89</td>\n",
              "    </tr>\n",
              "    <tr>\n",
              "      <th>2</th>\n",
              "      <td>332.5</td>\n",
              "      <td>142.5</td>\n",
              "      <td>0.0</td>\n",
              "      <td>228.0</td>\n",
              "      <td>0.0</td>\n",
              "      <td>932.0</td>\n",
              "      <td>594.0</td>\n",
              "      <td>270</td>\n",
              "      <td>40.27</td>\n",
              "    </tr>\n",
              "    <tr>\n",
              "      <th>3</th>\n",
              "      <td>332.5</td>\n",
              "      <td>142.5</td>\n",
              "      <td>0.0</td>\n",
              "      <td>228.0</td>\n",
              "      <td>0.0</td>\n",
              "      <td>932.0</td>\n",
              "      <td>594.0</td>\n",
              "      <td>365</td>\n",
              "      <td>41.05</td>\n",
              "    </tr>\n",
              "    <tr>\n",
              "      <th>4</th>\n",
              "      <td>198.6</td>\n",
              "      <td>132.4</td>\n",
              "      <td>0.0</td>\n",
              "      <td>192.0</td>\n",
              "      <td>0.0</td>\n",
              "      <td>978.4</td>\n",
              "      <td>825.5</td>\n",
              "      <td>360</td>\n",
              "      <td>44.30</td>\n",
              "    </tr>\n",
              "  </tbody>\n",
              "</table>\n",
              "</div>"
            ],
            "text/plain": [
              "   Cement  Blast Furnace Slag  Fly Ash  ...  Fine Aggregate  Age  Strength\n",
              "0   540.0                 0.0      0.0  ...           676.0   28     79.99\n",
              "1   540.0                 0.0      0.0  ...           676.0   28     61.89\n",
              "2   332.5               142.5      0.0  ...           594.0  270     40.27\n",
              "3   332.5               142.5      0.0  ...           594.0  365     41.05\n",
              "4   198.6               132.4      0.0  ...           825.5  360     44.30\n",
              "\n",
              "[5 rows x 9 columns]"
            ]
          },
          "metadata": {
            "tags": []
          },
          "execution_count": 2
        }
      ]
    },
    {
      "cell_type": "markdown",
      "metadata": {
        "id": "fvDSvAtuBxnS"
      },
      "source": [
        "So the first concrete sample has 540 cubic meter of cement, 0 cubic meter of blast furnace slag, 0 cubic meter of fly ash, 162 cubic meter of water, 2.5 cubic meter of superplaticizer, 1040 cubic meter of coarse aggregate, 676 cubic meter of fine aggregate. Such a concrete mix which is 28 days old, has a compressive strength of 79.99 MPa. "
      ]
    },
    {
      "cell_type": "markdown",
      "metadata": {
        "id": "gtCG3813BxnT"
      },
      "source": [
        "###**Let's check how many data points we have**."
      ]
    },
    {
      "cell_type": "code",
      "metadata": {
        "id": "9CNAfyw7BxnT",
        "outputId": "dd4fa5ab-34ad-4cc0-cfc9-ddcbf4cce53c"
      },
      "source": [
        "concrete_data.shape"
      ],
      "execution_count": null,
      "outputs": [
        {
          "output_type": "execute_result",
          "data": {
            "text/plain": [
              "(1030, 9)"
            ]
          },
          "metadata": {
            "tags": []
          },
          "execution_count": 4
        }
      ]
    },
    {
      "cell_type": "markdown",
      "metadata": {
        "id": "DI1TWh80BxnT"
      },
      "source": [
        "So, there are approximately 1000 samples to train our model on. Because of the few samples, we have to be careful not to overfit the training data."
      ]
    },
    {
      "cell_type": "markdown",
      "metadata": {
        "id": "_acPD6o3BxnU"
      },
      "source": [
        "Let's check the dataset for any missing values."
      ]
    },
    {
      "cell_type": "code",
      "metadata": {
        "id": "A2CV0DXTBxnU",
        "colab": {
          "base_uri": "https://localhost:8080/",
          "height": 297
        },
        "outputId": "ab866e30-0f5d-4e93-b04d-4bda7bad5e6d"
      },
      "source": [
        "concrete_data.describe()"
      ],
      "execution_count": 3,
      "outputs": [
        {
          "output_type": "execute_result",
          "data": {
            "text/html": [
              "<div>\n",
              "<style scoped>\n",
              "    .dataframe tbody tr th:only-of-type {\n",
              "        vertical-align: middle;\n",
              "    }\n",
              "\n",
              "    .dataframe tbody tr th {\n",
              "        vertical-align: top;\n",
              "    }\n",
              "\n",
              "    .dataframe thead th {\n",
              "        text-align: right;\n",
              "    }\n",
              "</style>\n",
              "<table border=\"1\" class=\"dataframe\">\n",
              "  <thead>\n",
              "    <tr style=\"text-align: right;\">\n",
              "      <th></th>\n",
              "      <th>Cement</th>\n",
              "      <th>Blast Furnace Slag</th>\n",
              "      <th>Fly Ash</th>\n",
              "      <th>Water</th>\n",
              "      <th>Superplasticizer</th>\n",
              "      <th>Coarse Aggregate</th>\n",
              "      <th>Fine Aggregate</th>\n",
              "      <th>Age</th>\n",
              "      <th>Strength</th>\n",
              "    </tr>\n",
              "  </thead>\n",
              "  <tbody>\n",
              "    <tr>\n",
              "      <th>count</th>\n",
              "      <td>1030.000000</td>\n",
              "      <td>1030.000000</td>\n",
              "      <td>1030.000000</td>\n",
              "      <td>1030.000000</td>\n",
              "      <td>1030.000000</td>\n",
              "      <td>1030.000000</td>\n",
              "      <td>1030.000000</td>\n",
              "      <td>1030.000000</td>\n",
              "      <td>1030.000000</td>\n",
              "    </tr>\n",
              "    <tr>\n",
              "      <th>mean</th>\n",
              "      <td>281.167864</td>\n",
              "      <td>73.895825</td>\n",
              "      <td>54.188350</td>\n",
              "      <td>181.567282</td>\n",
              "      <td>6.204660</td>\n",
              "      <td>972.918932</td>\n",
              "      <td>773.580485</td>\n",
              "      <td>45.662136</td>\n",
              "      <td>35.817961</td>\n",
              "    </tr>\n",
              "    <tr>\n",
              "      <th>std</th>\n",
              "      <td>104.506364</td>\n",
              "      <td>86.279342</td>\n",
              "      <td>63.997004</td>\n",
              "      <td>21.354219</td>\n",
              "      <td>5.973841</td>\n",
              "      <td>77.753954</td>\n",
              "      <td>80.175980</td>\n",
              "      <td>63.169912</td>\n",
              "      <td>16.705742</td>\n",
              "    </tr>\n",
              "    <tr>\n",
              "      <th>min</th>\n",
              "      <td>102.000000</td>\n",
              "      <td>0.000000</td>\n",
              "      <td>0.000000</td>\n",
              "      <td>121.800000</td>\n",
              "      <td>0.000000</td>\n",
              "      <td>801.000000</td>\n",
              "      <td>594.000000</td>\n",
              "      <td>1.000000</td>\n",
              "      <td>2.330000</td>\n",
              "    </tr>\n",
              "    <tr>\n",
              "      <th>25%</th>\n",
              "      <td>192.375000</td>\n",
              "      <td>0.000000</td>\n",
              "      <td>0.000000</td>\n",
              "      <td>164.900000</td>\n",
              "      <td>0.000000</td>\n",
              "      <td>932.000000</td>\n",
              "      <td>730.950000</td>\n",
              "      <td>7.000000</td>\n",
              "      <td>23.710000</td>\n",
              "    </tr>\n",
              "    <tr>\n",
              "      <th>50%</th>\n",
              "      <td>272.900000</td>\n",
              "      <td>22.000000</td>\n",
              "      <td>0.000000</td>\n",
              "      <td>185.000000</td>\n",
              "      <td>6.400000</td>\n",
              "      <td>968.000000</td>\n",
              "      <td>779.500000</td>\n",
              "      <td>28.000000</td>\n",
              "      <td>34.445000</td>\n",
              "    </tr>\n",
              "    <tr>\n",
              "      <th>75%</th>\n",
              "      <td>350.000000</td>\n",
              "      <td>142.950000</td>\n",
              "      <td>118.300000</td>\n",
              "      <td>192.000000</td>\n",
              "      <td>10.200000</td>\n",
              "      <td>1029.400000</td>\n",
              "      <td>824.000000</td>\n",
              "      <td>56.000000</td>\n",
              "      <td>46.135000</td>\n",
              "    </tr>\n",
              "    <tr>\n",
              "      <th>max</th>\n",
              "      <td>540.000000</td>\n",
              "      <td>359.400000</td>\n",
              "      <td>200.100000</td>\n",
              "      <td>247.000000</td>\n",
              "      <td>32.200000</td>\n",
              "      <td>1145.000000</td>\n",
              "      <td>992.600000</td>\n",
              "      <td>365.000000</td>\n",
              "      <td>82.600000</td>\n",
              "    </tr>\n",
              "  </tbody>\n",
              "</table>\n",
              "</div>"
            ],
            "text/plain": [
              "            Cement  Blast Furnace Slag  ...          Age     Strength\n",
              "count  1030.000000         1030.000000  ...  1030.000000  1030.000000\n",
              "mean    281.167864           73.895825  ...    45.662136    35.817961\n",
              "std     104.506364           86.279342  ...    63.169912    16.705742\n",
              "min     102.000000            0.000000  ...     1.000000     2.330000\n",
              "25%     192.375000            0.000000  ...     7.000000    23.710000\n",
              "50%     272.900000           22.000000  ...    28.000000    34.445000\n",
              "75%     350.000000          142.950000  ...    56.000000    46.135000\n",
              "max     540.000000          359.400000  ...   365.000000    82.600000\n",
              "\n",
              "[8 rows x 9 columns]"
            ]
          },
          "metadata": {
            "tags": []
          },
          "execution_count": 3
        }
      ]
    },
    {
      "cell_type": "code",
      "metadata": {
        "id": "VJzTiDhSBxnU",
        "colab": {
          "base_uri": "https://localhost:8080/"
        },
        "outputId": "18269a0c-291c-4aa0-c1cf-a4ff16cdf057"
      },
      "source": [
        "concrete_data.isnull().sum()"
      ],
      "execution_count": 4,
      "outputs": [
        {
          "output_type": "execute_result",
          "data": {
            "text/plain": [
              "Cement                0\n",
              "Blast Furnace Slag    0\n",
              "Fly Ash               0\n",
              "Water                 0\n",
              "Superplasticizer      0\n",
              "Coarse Aggregate      0\n",
              "Fine Aggregate        0\n",
              "Age                   0\n",
              "Strength              0\n",
              "dtype: int64"
            ]
          },
          "metadata": {
            "tags": []
          },
          "execution_count": 4
        }
      ]
    },
    {
      "cell_type": "markdown",
      "metadata": {
        "id": "0mSuQIptBxnU"
      },
      "source": [
        "The data looks very clean and is ready to be used to build our model."
      ]
    },
    {
      "cell_type": "markdown",
      "metadata": {
        "id": "byGxus5JBxnV"
      },
      "source": [
        "### **Cleaning and Normalizing Data**"
      ]
    },
    {
      "cell_type": "markdown",
      "metadata": {
        "id": "Haz4WdJwBxnV"
      },
      "source": [
        "The target variable in this problem is the concrete sample strength. Therefore, our predictors will be all the other columns."
      ]
    },
    {
      "cell_type": "code",
      "metadata": {
        "id": "5W7Gm3DOBxnV"
      },
      "source": [
        "concrete_data_columns = concrete_data.columns\n",
        "predictors = concrete_data[concrete_data_columns[concrete_data_columns != 'Strength']] # all columns except Strength\n",
        "target = concrete_data['Strength'] # Strength column"
      ],
      "execution_count": 5,
      "outputs": []
    },
    {
      "cell_type": "markdown",
      "metadata": {
        "id": "4sMtLvo5BxnV"
      },
      "source": [
        "Let's do a quick sanity check of the predictors and the target dataframes."
      ]
    },
    {
      "cell_type": "code",
      "metadata": {
        "id": "_KwyCp_cBxnV",
        "colab": {
          "base_uri": "https://localhost:8080/",
          "height": 204
        },
        "outputId": "b0905764-3d6e-4df2-e4dc-bbbd725fa031"
      },
      "source": [
        "predictors.head()"
      ],
      "execution_count": 6,
      "outputs": [
        {
          "output_type": "execute_result",
          "data": {
            "text/html": [
              "<div>\n",
              "<style scoped>\n",
              "    .dataframe tbody tr th:only-of-type {\n",
              "        vertical-align: middle;\n",
              "    }\n",
              "\n",
              "    .dataframe tbody tr th {\n",
              "        vertical-align: top;\n",
              "    }\n",
              "\n",
              "    .dataframe thead th {\n",
              "        text-align: right;\n",
              "    }\n",
              "</style>\n",
              "<table border=\"1\" class=\"dataframe\">\n",
              "  <thead>\n",
              "    <tr style=\"text-align: right;\">\n",
              "      <th></th>\n",
              "      <th>Cement</th>\n",
              "      <th>Blast Furnace Slag</th>\n",
              "      <th>Fly Ash</th>\n",
              "      <th>Water</th>\n",
              "      <th>Superplasticizer</th>\n",
              "      <th>Coarse Aggregate</th>\n",
              "      <th>Fine Aggregate</th>\n",
              "      <th>Age</th>\n",
              "    </tr>\n",
              "  </thead>\n",
              "  <tbody>\n",
              "    <tr>\n",
              "      <th>0</th>\n",
              "      <td>540.0</td>\n",
              "      <td>0.0</td>\n",
              "      <td>0.0</td>\n",
              "      <td>162.0</td>\n",
              "      <td>2.5</td>\n",
              "      <td>1040.0</td>\n",
              "      <td>676.0</td>\n",
              "      <td>28</td>\n",
              "    </tr>\n",
              "    <tr>\n",
              "      <th>1</th>\n",
              "      <td>540.0</td>\n",
              "      <td>0.0</td>\n",
              "      <td>0.0</td>\n",
              "      <td>162.0</td>\n",
              "      <td>2.5</td>\n",
              "      <td>1055.0</td>\n",
              "      <td>676.0</td>\n",
              "      <td>28</td>\n",
              "    </tr>\n",
              "    <tr>\n",
              "      <th>2</th>\n",
              "      <td>332.5</td>\n",
              "      <td>142.5</td>\n",
              "      <td>0.0</td>\n",
              "      <td>228.0</td>\n",
              "      <td>0.0</td>\n",
              "      <td>932.0</td>\n",
              "      <td>594.0</td>\n",
              "      <td>270</td>\n",
              "    </tr>\n",
              "    <tr>\n",
              "      <th>3</th>\n",
              "      <td>332.5</td>\n",
              "      <td>142.5</td>\n",
              "      <td>0.0</td>\n",
              "      <td>228.0</td>\n",
              "      <td>0.0</td>\n",
              "      <td>932.0</td>\n",
              "      <td>594.0</td>\n",
              "      <td>365</td>\n",
              "    </tr>\n",
              "    <tr>\n",
              "      <th>4</th>\n",
              "      <td>198.6</td>\n",
              "      <td>132.4</td>\n",
              "      <td>0.0</td>\n",
              "      <td>192.0</td>\n",
              "      <td>0.0</td>\n",
              "      <td>978.4</td>\n",
              "      <td>825.5</td>\n",
              "      <td>360</td>\n",
              "    </tr>\n",
              "  </tbody>\n",
              "</table>\n",
              "</div>"
            ],
            "text/plain": [
              "   Cement  Blast Furnace Slag  Fly Ash  ...  Coarse Aggregate  Fine Aggregate  Age\n",
              "0   540.0                 0.0      0.0  ...            1040.0           676.0   28\n",
              "1   540.0                 0.0      0.0  ...            1055.0           676.0   28\n",
              "2   332.5               142.5      0.0  ...             932.0           594.0  270\n",
              "3   332.5               142.5      0.0  ...             932.0           594.0  365\n",
              "4   198.6               132.4      0.0  ...             978.4           825.5  360\n",
              "\n",
              "[5 rows x 8 columns]"
            ]
          },
          "metadata": {
            "tags": []
          },
          "execution_count": 6
        }
      ]
    },
    {
      "cell_type": "code",
      "metadata": {
        "id": "z2pZC5hlBxnW",
        "colab": {
          "base_uri": "https://localhost:8080/"
        },
        "outputId": "e9a8a02f-231e-479b-8ef0-83cfcc91403a"
      },
      "source": [
        "target.head()"
      ],
      "execution_count": 7,
      "outputs": [
        {
          "output_type": "execute_result",
          "data": {
            "text/plain": [
              "0    79.99\n",
              "1    61.89\n",
              "2    40.27\n",
              "3    41.05\n",
              "4    44.30\n",
              "Name: Strength, dtype: float64"
            ]
          },
          "metadata": {
            "tags": []
          },
          "execution_count": 7
        }
      ]
    },
    {
      "cell_type": "code",
      "metadata": {
        "id": "4trzlTGpBxnW",
        "colab": {
          "base_uri": "https://localhost:8080/"
        },
        "outputId": "3db1e89c-eca2-4e9e-c755-183693f90820"
      },
      "source": [
        "n_cols = predictors.shape[1] # number of predictors\n",
        "n_cols"
      ],
      "execution_count": 8,
      "outputs": [
        {
          "output_type": "execute_result",
          "data": {
            "text/plain": [
              "8"
            ]
          },
          "metadata": {
            "tags": []
          },
          "execution_count": 8
        }
      ]
    },
    {
      "cell_type": "markdown",
      "metadata": {
        "id": "ZHtdYknwBxnW"
      },
      "source": [
        "<a id=\"item1\"></a>"
      ]
    },
    {
      "cell_type": "markdown",
      "metadata": {
        "id": "vyxvDuV-BxnW"
      },
      "source": [
        "<a id=\"item1\"></a>"
      ]
    },
    {
      "cell_type": "markdown",
      "metadata": {
        "id": "d2EJICF3BxnX"
      },
      "source": [
        "## Import Keras"
      ]
    },
    {
      "cell_type": "markdown",
      "metadata": {
        "id": "xXtckhL9BxnX"
      },
      "source": [
        "#### Let's go ahead and import the Keras library"
      ]
    },
    {
      "cell_type": "code",
      "metadata": {
        "id": "MbdMNcSyBxnX"
      },
      "source": [
        "import keras"
      ],
      "execution_count": 9,
      "outputs": []
    },
    {
      "cell_type": "markdown",
      "metadata": {
        "id": "6H98isUOBxnX"
      },
      "source": [
        "As you can see, the TensorFlow backend was used to install the Keras library."
      ]
    },
    {
      "cell_type": "markdown",
      "metadata": {
        "id": "geBvt0noBxnX"
      },
      "source": [
        "Let's import the rest of the packages from the Keras library that we will need to build our regressoin model."
      ]
    },
    {
      "cell_type": "code",
      "metadata": {
        "id": "n_FwUU-NBxnY"
      },
      "source": [
        "from keras.models import Sequential\n",
        "from keras.layers import Dense"
      ],
      "execution_count": 10,
      "outputs": []
    },
    {
      "cell_type": "code",
      "metadata": {
        "id": "ehWt8kNiBxnY"
      },
      "source": [
        "# define regression model\n",
        "def regression_model():\n",
        "    # create model\n",
        "    model = Sequential()\n",
        "    model.add(Dense(10, activation='relu', input_shape=(n_cols,)))\n",
        "    model.add(Dense(1))\n",
        "    \n",
        "    # compile model\n",
        "    model.compile(optimizer='adam', loss='mean_squared_error')\n",
        "    return model"
      ],
      "execution_count": 11,
      "outputs": []
    },
    {
      "cell_type": "markdown",
      "metadata": {
        "id": "3tXfpG2NBxnY"
      },
      "source": [
        "The above function creates a model that has one hidden layer with 10 neurons and a ReLU activation function. It uses the adam optimizer and the mean squared error as the loss function."
      ]
    },
    {
      "cell_type": "markdown",
      "metadata": {
        "id": "mwaLOkT7BxnY"
      },
      "source": [
        "Let's import scikit-learn in order to randomly split the data into a training and test sets"
      ]
    },
    {
      "cell_type": "code",
      "metadata": {
        "id": "DmC8ysoNBxnY"
      },
      "source": [
        "from sklearn.model_selection import train_test_split"
      ],
      "execution_count": 12,
      "outputs": []
    },
    {
      "cell_type": "markdown",
      "metadata": {
        "id": "dpj265cKBxnZ"
      },
      "source": [
        "Splitting the data into a training and test sets by holding 30% of the data for testing"
      ]
    },
    {
      "cell_type": "code",
      "metadata": {
        "id": "8lCK1AI7BxnZ"
      },
      "source": [
        "X_train, X_test, y_train, y_test = train_test_split(predictors, target, test_size=0.3, random_state=42)"
      ],
      "execution_count": 13,
      "outputs": []
    },
    {
      "cell_type": "markdown",
      "metadata": {
        "id": "9qksPl5xBxnZ"
      },
      "source": [
        "## Train and Test the Network"
      ]
    },
    {
      "cell_type": "markdown",
      "metadata": {
        "id": "took6aC8BxnZ"
      },
      "source": [
        "Let's call the function now to create our model."
      ]
    },
    {
      "cell_type": "code",
      "metadata": {
        "id": "RJQfWH0GBxnZ"
      },
      "source": [
        "# build the model\n",
        "model = regression_model()"
      ],
      "execution_count": 14,
      "outputs": []
    },
    {
      "cell_type": "markdown",
      "metadata": {
        "id": "4IooPvETBxnZ"
      },
      "source": [
        "Next, we will train the model for 50 epochs.\n"
      ]
    },
    {
      "cell_type": "code",
      "metadata": {
        "id": "Tb-LKM1hBxna",
        "colab": {
          "base_uri": "https://localhost:8080/"
        },
        "outputId": "1aa1283d-8ef3-42cc-8c00-a4e503279129"
      },
      "source": [
        "# fit the model\n",
        "epochs = 50\n",
        "model.fit(X_train, y_train, epochs=epochs, verbose=1)"
      ],
      "execution_count": 15,
      "outputs": [
        {
          "output_type": "stream",
          "text": [
            "Epoch 1/50\n",
            "23/23 [==============================] - 1s 1ms/step - loss: 56021.4193\n",
            "Epoch 2/50\n",
            "23/23 [==============================] - 0s 1ms/step - loss: 11305.9522\n",
            "Epoch 3/50\n",
            "23/23 [==============================] - 0s 1ms/step - loss: 3379.8955\n",
            "Epoch 4/50\n",
            "23/23 [==============================] - 0s 1ms/step - loss: 3294.6796\n",
            "Epoch 5/50\n",
            "23/23 [==============================] - 0s 1ms/step - loss: 2993.1638\n",
            "Epoch 6/50\n",
            "23/23 [==============================] - 0s 1ms/step - loss: 2964.6388\n",
            "Epoch 7/50\n",
            "23/23 [==============================] - 0s 1ms/step - loss: 2841.1146\n",
            "Epoch 8/50\n",
            "23/23 [==============================] - 0s 975us/step - loss: 2638.5429\n",
            "Epoch 9/50\n",
            "23/23 [==============================] - 0s 1ms/step - loss: 2303.5320\n",
            "Epoch 10/50\n",
            "23/23 [==============================] - 0s 1ms/step - loss: 2512.1062\n",
            "Epoch 11/50\n",
            "23/23 [==============================] - 0s 1ms/step - loss: 2191.4062\n",
            "Epoch 12/50\n",
            "23/23 [==============================] - 0s 1ms/step - loss: 2166.2650\n",
            "Epoch 13/50\n",
            "23/23 [==============================] - 0s 1ms/step - loss: 1940.7504\n",
            "Epoch 14/50\n",
            "23/23 [==============================] - 0s 1ms/step - loss: 1892.3024\n",
            "Epoch 15/50\n",
            "23/23 [==============================] - 0s 1ms/step - loss: 1637.9052\n",
            "Epoch 16/50\n",
            "23/23 [==============================] - 0s 1ms/step - loss: 1500.8571\n",
            "Epoch 17/50\n",
            "23/23 [==============================] - 0s 1ms/step - loss: 1476.9708\n",
            "Epoch 18/50\n",
            "23/23 [==============================] - 0s 1ms/step - loss: 1430.4921\n",
            "Epoch 19/50\n",
            "23/23 [==============================] - 0s 1ms/step - loss: 1325.7521\n",
            "Epoch 20/50\n",
            "23/23 [==============================] - 0s 1ms/step - loss: 1197.2873\n",
            "Epoch 21/50\n",
            "23/23 [==============================] - 0s 1ms/step - loss: 1111.8794\n",
            "Epoch 22/50\n",
            "23/23 [==============================] - 0s 1ms/step - loss: 968.7417\n",
            "Epoch 23/50\n",
            "23/23 [==============================] - 0s 1ms/step - loss: 1126.8176\n",
            "Epoch 24/50\n",
            "23/23 [==============================] - 0s 1ms/step - loss: 980.8384\n",
            "Epoch 25/50\n",
            "23/23 [==============================] - 0s 1ms/step - loss: 904.1051\n",
            "Epoch 26/50\n",
            "23/23 [==============================] - 0s 1ms/step - loss: 973.0096\n",
            "Epoch 27/50\n",
            "23/23 [==============================] - 0s 1ms/step - loss: 816.8083\n",
            "Epoch 28/50\n",
            "23/23 [==============================] - 0s 1ms/step - loss: 759.1771\n",
            "Epoch 29/50\n",
            "23/23 [==============================] - 0s 1ms/step - loss: 802.1031\n",
            "Epoch 30/50\n",
            "23/23 [==============================] - 0s 1ms/step - loss: 719.6361\n",
            "Epoch 31/50\n",
            "23/23 [==============================] - 0s 1ms/step - loss: 733.6682\n",
            "Epoch 32/50\n",
            "23/23 [==============================] - 0s 1ms/step - loss: 662.7510\n",
            "Epoch 33/50\n",
            "23/23 [==============================] - 0s 1ms/step - loss: 604.5253\n",
            "Epoch 34/50\n",
            "23/23 [==============================] - 0s 1ms/step - loss: 616.3578\n",
            "Epoch 35/50\n",
            "23/23 [==============================] - 0s 1ms/step - loss: 524.4309\n",
            "Epoch 36/50\n",
            "23/23 [==============================] - 0s 1ms/step - loss: 508.8524\n",
            "Epoch 37/50\n",
            "23/23 [==============================] - 0s 1ms/step - loss: 489.2491\n",
            "Epoch 38/50\n",
            "23/23 [==============================] - 0s 984us/step - loss: 469.7021\n",
            "Epoch 39/50\n",
            "23/23 [==============================] - 0s 1ms/step - loss: 467.7314\n",
            "Epoch 40/50\n",
            "23/23 [==============================] - 0s 1ms/step - loss: 464.1498\n",
            "Epoch 41/50\n",
            "23/23 [==============================] - 0s 1ms/step - loss: 418.9071\n",
            "Epoch 42/50\n",
            "23/23 [==============================] - 0s 1ms/step - loss: 430.3827\n",
            "Epoch 43/50\n",
            "23/23 [==============================] - 0s 1ms/step - loss: 356.6647\n",
            "Epoch 44/50\n",
            "23/23 [==============================] - 0s 1ms/step - loss: 381.8032\n",
            "Epoch 45/50\n",
            "23/23 [==============================] - 0s 1ms/step - loss: 364.1308\n",
            "Epoch 46/50\n",
            "23/23 [==============================] - 0s 1ms/step - loss: 347.7527\n",
            "Epoch 47/50\n",
            "23/23 [==============================] - 0s 1ms/step - loss: 363.1262\n",
            "Epoch 48/50\n",
            "23/23 [==============================] - 0s 1ms/step - loss: 344.7591\n",
            "Epoch 49/50\n",
            "23/23 [==============================] - 0s 1ms/step - loss: 308.8777\n",
            "Epoch 50/50\n",
            "23/23 [==============================] - 0s 1ms/step - loss: 318.4967\n"
          ],
          "name": "stdout"
        },
        {
          "output_type": "execute_result",
          "data": {
            "text/plain": [
              "<tensorflow.python.keras.callbacks.History at 0x7fc1fc8887d0>"
            ]
          },
          "metadata": {
            "tags": []
          },
          "execution_count": 15
        }
      ]
    },
    {
      "cell_type": "markdown",
      "metadata": {
        "id": "iUh10XwQBxna"
      },
      "source": [
        "Next we need to evaluate the model on the test data."
      ]
    },
    {
      "cell_type": "code",
      "metadata": {
        "id": "hMdxt386Bxna",
        "colab": {
          "base_uri": "https://localhost:8080/"
        },
        "outputId": "7efc8217-564f-426b-fac8-648154e83878"
      },
      "source": [
        "loss_val = model.evaluate(X_test, y_test)\n",
        "y_pred = model.predict(X_test)\n",
        "loss_val"
      ],
      "execution_count": 16,
      "outputs": [
        {
          "output_type": "stream",
          "text": [
            "10/10 [==============================] - 0s 1ms/step - loss: 312.7010\n"
          ],
          "name": "stdout"
        },
        {
          "output_type": "execute_result",
          "data": {
            "text/plain": [
              "312.7009582519531"
            ]
          },
          "metadata": {
            "tags": []
          },
          "execution_count": 16
        }
      ]
    },
    {
      "cell_type": "markdown",
      "metadata": {
        "id": "y6rrzIoGBxna"
      },
      "source": [
        "Now we need to compute the mean squared error between the predicted concrete strength and the actual concrete strength."
      ]
    },
    {
      "cell_type": "markdown",
      "metadata": {
        "id": "U17NxEzPBxna"
      },
      "source": [
        "Let's import the mean_squared_error function from Scikit-learn."
      ]
    },
    {
      "cell_type": "code",
      "metadata": {
        "id": "QmqFw4nYBxnb"
      },
      "source": [
        "from sklearn.metrics import mean_squared_error"
      ],
      "execution_count": 17,
      "outputs": []
    },
    {
      "cell_type": "code",
      "metadata": {
        "id": "A6rXfkBDBxnb",
        "colab": {
          "base_uri": "https://localhost:8080/"
        },
        "outputId": "46c29ad9-0ef6-416b-8f64-9ae9e9efbb6a"
      },
      "source": [
        "mean_square_error = mean_squared_error(y_test, y_pred)\n",
        "mean = np.mean(mean_square_error)\n",
        "standard_deviation = np.std(mean_square_error)\n",
        "print(mean, standard_deviation)"
      ],
      "execution_count": 18,
      "outputs": [
        {
          "output_type": "stream",
          "text": [
            "312.7009032587031 0.0\n"
          ],
          "name": "stdout"
        }
      ]
    },
    {
      "cell_type": "markdown",
      "metadata": {
        "id": "TkIw8mUEBxnb"
      },
      "source": [
        "Create a list of 50 mean squared errors and report mean and the standard deviation of the mean squared errors."
      ]
    },
    {
      "cell_type": "code",
      "metadata": {
        "id": "OyCQqy3VBxnb",
        "colab": {
          "base_uri": "https://localhost:8080/"
        },
        "outputId": "ccf069b2-976c-4e0c-ff76-8df5fdfa18e2"
      },
      "source": [
        "total_mean_squared_errors = 50\n",
        "epochs = 50\n",
        "mean_squared_errors = []\n",
        "for i in range(0, total_mean_squared_errors):\n",
        "    X_train, X_test, y_train, y_test = train_test_split(predictors, target, test_size=0.3, random_state=i)\n",
        "    model.fit(X_train, y_train, epochs=epochs, verbose=0)\n",
        "    MSE = model.evaluate(X_test, y_test, verbose=0)\n",
        "    print(\"MSE \"+str(i+1)+\": \"+str(MSE))\n",
        "    y_pred = model.predict(X_test)\n",
        "    mean_square_error = mean_squared_error(y_test, y_pred)\n",
        "    mean_squared_errors.append(mean_square_error)\n",
        "\n",
        "mean_squared_errors = np.array(mean_squared_errors)\n",
        "mean = np.mean(mean_squared_errors)\n",
        "standard_deviation = np.std(mean_squared_errors)\n",
        "\n",
        "print('\\n')\n",
        "print(\"Below is the mean and standard deviation of \" +str(total_mean_squared_errors) + \" mean squared errors without normalized data. Total number of epochs for each training is: \" +str(epochs) + \"\\n\")\n",
        "print(\"Mean: \"+str(mean))\n",
        "print(\"Standard Deviation: \"+str(standard_deviation))"
      ],
      "execution_count": 19,
      "outputs": [
        {
          "output_type": "stream",
          "text": [
            "MSE 1: 121.95288848876953\n",
            "MSE 2: 145.2391357421875\n",
            "MSE 3: 114.91912078857422\n",
            "MSE 4: 130.37527465820312\n",
            "MSE 5: 125.41300964355469\n",
            "MSE 6: 109.977294921875\n",
            "MSE 7: 142.4945068359375\n",
            "MSE 8: 108.30347442626953\n",
            "MSE 9: 122.76383972167969\n",
            "MSE 10: 118.01298522949219\n",
            "MSE 11: 102.64520263671875\n",
            "MSE 12: 126.24449920654297\n",
            "MSE 13: 121.47888946533203\n",
            "MSE 14: 116.92609405517578\n",
            "MSE 15: 109.37126922607422\n",
            "MSE 16: 109.85301971435547\n",
            "MSE 17: 105.96543884277344\n",
            "MSE 18: 95.43729400634766\n",
            "MSE 19: 95.0811538696289\n",
            "MSE 20: 114.39599609375\n",
            "MSE 21: 96.89361572265625\n",
            "MSE 22: 105.53860473632812\n",
            "MSE 23: 112.22298431396484\n",
            "MSE 24: 106.6091079711914\n",
            "MSE 25: 108.7795181274414\n",
            "MSE 26: 103.71099853515625\n",
            "MSE 27: 128.18467712402344\n",
            "MSE 28: 109.34622955322266\n",
            "MSE 29: 111.38359832763672\n",
            "MSE 30: 112.36216735839844\n",
            "MSE 31: 135.80026245117188\n",
            "MSE 32: 108.52020263671875\n",
            "MSE 33: 102.13824462890625\n",
            "MSE 34: 115.26837921142578\n",
            "MSE 35: 114.88044738769531\n",
            "MSE 36: 134.95152282714844\n",
            "MSE 37: 121.79768371582031\n",
            "MSE 38: 125.59642028808594\n",
            "MSE 39: 107.28145599365234\n",
            "MSE 40: 119.71977233886719\n",
            "MSE 41: 133.33819580078125\n",
            "MSE 42: 111.05103302001953\n",
            "MSE 43: 107.33638000488281\n",
            "MSE 44: 109.2059097290039\n",
            "MSE 45: 117.17346954345703\n",
            "MSE 46: 113.94934844970703\n",
            "MSE 47: 119.41848754882812\n",
            "MSE 48: 122.3820571899414\n",
            "MSE 49: 102.6054458618164\n",
            "MSE 50: 113.2607421875\n",
            "\n",
            "\n",
            "Below is the mean and standard deviation of 50 mean squared errors without normalized data. Total number of epochs for each training is: 50\n",
            "\n",
            "Mean: 115.35114203340508\n",
            "Standard Deviation: 11.214161185201437\n"
          ],
          "name": "stdout"
        }
      ]
    },
    {
      "cell_type": "code",
      "metadata": {
        "id": "fYOVw-hnBxnb"
      },
      "source": [
        ""
      ],
      "execution_count": null,
      "outputs": []
    }
  ]
}